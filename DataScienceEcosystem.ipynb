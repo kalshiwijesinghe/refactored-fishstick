{
 "cells": [
  {
   "cell_type": "markdown",
   "id": "17f16f28-0be6-4f44-97ac-0b89b2b986bb",
   "metadata": {},
   "source": [
    "# Data Science Tools and Ecosystem"
   ]
  },
  {
   "cell_type": "markdown",
   "id": "12953437-d451-470c-bc7c-311b9768fb36",
   "metadata": {},
   "source": [
    "In this notebook, Data Science Tools and Ecosystem are summarized."
   ]
  },
  {
   "cell_type": "markdown",
   "id": "eafb63ff-465f-4417-ae90-388d95b4b522",
   "metadata": {},
   "source": [
    "**Objectives:**\n",
    "* List popular languages for Data Science\n",
    "* List commonly used libraries for Data Science.\n",
    "* Listing open source development environment tools for Data Science.\n",
    "* Examples of evaluating arithmetic expressions in Python."
   ]
  },
  {
   "cell_type": "markdown",
   "id": "c2c285e0-4c04-43c2-9bf3-83f661718aab",
   "metadata": {},
   "source": [
    "Some of the popular languages that Data Scientists use are:"
   ]
  },
  {
   "cell_type": "markdown",
   "id": "c9311f83-38f8-45d7-9655-2bd043bc3623",
   "metadata": {},
   "source": [
    "1. Python\n",
    "2. R\n",
    "3. SQL"
   ]
  },
  {
   "cell_type": "markdown",
   "id": "510edf9f-f0a7-4b36-a451-af86538821c6",
   "metadata": {},
   "source": [
    "Some of the commonly used libraries used by Data Scientists include:"
   ]
  },
  {
   "cell_type": "markdown",
   "id": "f32ec7ac-0051-440b-8472-22a6a6231718",
   "metadata": {},
   "source": [
    "1. Pandas\n",
    "2. Numpy\n",
    "3. Matplotlib"
   ]
  },
  {
   "cell_type": "markdown",
   "id": "eaa2ba3d-cb7a-42a7-8637-dc402dcfbb22",
   "metadata": {},
   "source": [
    "|Data Science Tools|\n",
    "|------------------|\n",
    "|Jupyter Lab|\n",
    "|RStudio|\n",
    "|Anaconda Navigator|"
   ]
  },
  {
   "cell_type": "markdown",
   "id": "70a87a22-0f11-477a-a0e2-764086f7a5bc",
   "metadata": {},
   "source": [
    "### Below are a few examples of evaluating arithmetic expressions in Python"
   ]
  },
  {
   "cell_type": "code",
   "execution_count": 3,
   "id": "9cca79c7-f94a-4846-a075-d197efce6853",
   "metadata": {},
   "outputs": [
    {
     "data": {
      "text/plain": [
       "17"
      ]
     },
     "execution_count": 3,
     "metadata": {},
     "output_type": "execute_result"
    }
   ],
   "source": [
    "# This is a simple arithmetic expression to mutiply then add integers\n",
    "(3*4)+5"
   ]
  },
  {
   "cell_type": "code",
   "execution_count": 4,
   "id": "65be3f6c-f35c-48da-8028-358ef37332b0",
   "metadata": {},
   "outputs": [
    {
     "data": {
      "text/plain": [
       "3.3333333333333335"
      ]
     },
     "execution_count": 4,
     "metadata": {},
     "output_type": "execute_result"
    }
   ],
   "source": [
    "# This will convert 200 minutes to hours by diving by 60\n",
    "200/60"
   ]
  },
  {
   "cell_type": "markdown",
   "id": "82d847eb-c7ed-4ebc-974b-87f209b27ed9",
   "metadata": {},
   "source": [
    "## Author\n",
    "Name1 Name2"
   ]
  },
  {
   "cell_type": "code",
   "execution_count": null,
   "id": "66fd4a47-bbd0-4bd5-98d1-e7e3ec2873e6",
   "metadata": {},
   "outputs": [],
   "source": []
  },
  {
   "cell_type": "code",
   "execution_count": null,
   "id": "3a5bd2d9-fd39-47c8-9ed4-ef5d92962b11",
   "metadata": {},
   "outputs": [],
   "source": []
  }
 ],
 "metadata": {
  "kernelspec": {
   "display_name": "Python [conda env:base] *",
   "language": "python",
   "name": "conda-base-py"
  },
  "language_info": {
   "codemirror_mode": {
    "name": "ipython",
    "version": 3
   },
   "file_extension": ".py",
   "mimetype": "text/x-python",
   "name": "python",
   "nbconvert_exporter": "python",
   "pygments_lexer": "ipython3",
   "version": "3.12.7"
  }
 },
 "nbformat": 4,
 "nbformat_minor": 5
}
